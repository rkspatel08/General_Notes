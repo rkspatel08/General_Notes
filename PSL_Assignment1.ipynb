{
  "nbformat": 4,
  "nbformat_minor": 0,
  "metadata": {
    "colab": {
      "provenance": [],
      "authorship_tag": "ABX9TyNmYU8K9XtLbCFmb/8LlsPT",
      "include_colab_link": true
    },
    "kernelspec": {
      "name": "python3",
      "display_name": "Python 3"
    },
    "language_info": {
      "name": "python"
    }
  },
  "cells": [
    {
      "cell_type": "markdown",
      "metadata": {
        "id": "view-in-github",
        "colab_type": "text"
      },
      "source": [
        "<a href=\"https://colab.research.google.com/github/rkspatel08/General_Notes/blob/main/PSL_Assignment1.ipynb\" target=\"_parent\"><img src=\"https://colab.research.google.com/assets/colab-badge.svg\" alt=\"Open In Colab\"/></a>"
      ]
    },
    {
      "cell_type": "markdown",
      "source": [
        "**PSL - Assignment 1 Submission**\n",
        "\n",
        "Author  : Rakesh Patel (rp22)\n",
        "\n",
        "Program : MCS-DS"
      ],
      "metadata": {
        "id": "wX0KOxtXdk3a"
      }
    },
    {
      "cell_type": "markdown",
      "source": [
        "**Part 1: Generate Data**"
      ],
      "metadata": {
        "id": "TRBBNswzdNZ1"
      }
    },
    {
      "cell_type": "code",
      "source": [
        "import numpy as np\n",
        "import matplotlib.pyplot as plt\n",
        "from collections import Counter"
      ],
      "metadata": {
        "id": "bAzNK0azeXHy"
      },
      "execution_count": 2,
      "outputs": []
    },
    {
      "cell_type": "code",
      "source": [
        "np.random.seed(3578);     # setting seed to last 4 of UIN"
      ],
      "metadata": {
        "id": "KCVlJrrPctlf"
      },
      "execution_count": 3,
      "outputs": []
    },
    {
      "cell_type": "markdown",
      "source": [
        "Generate the 20 centers, 10 for each group."
      ],
      "metadata": {
        "id": "9kXT1pOAgibr"
      }
    },
    {
      "cell_type": "code",
      "source": [
        "csize = 10\n",
        "p = 2\n",
        "s = 1;      # sd for generating the centers within each class\n",
        "m1 = np.random.normal(size = (csize, p)) * s \\\n",
        "     + np.concatenate([np.array([[1, 0]] * csize)])\n",
        "m0 = np.random.normal(size = (csize, p)) * s \\\n",
        "     + np.concatenate([np.array([[0, 1]] * csize)])"
      ],
      "metadata": {
        "id": "1camkP6eqEKX"
      },
      "execution_count": 4,
      "outputs": []
    },
    {
      "cell_type": "markdown",
      "source": [
        "Generate a Training Sample of size 200 (100 from each class)"
      ],
      "metadata": {
        "id": "wTNhFtuOpRty"
      }
    },
    {
      "cell_type": "code",
      "source": [
        "n = 100\n",
        "# Randomly allocate the n samples for class 1  to the 10 clusters\n",
        "id1 = np.random.randint(csize, size = n)\n",
        "id0 = np.random.randint(csize, size = n)\n",
        "\n",
        "# sd for generating data\n",
        "s = np.sqrt(float(1)/5)\n",
        "\n",
        "traindata = np.random.normal(size = (2 * n, p)) * s \\\n",
        "            + np.concatenate([m1[id1,:], m0[id0,:]])\n",
        "traindata_y = np.concatenate(([1]*n, [0]*n))\n"
      ],
      "metadata": {
        "id": "-WotnsnFpbNk"
      },
      "execution_count": 5,
      "outputs": []
    },
    {
      "cell_type": "markdown",
      "source": [
        "Generate Test Sample of size 10,000 (5,000 from each class)."
      ],
      "metadata": {
        "id": "49okKmDApzsN"
      }
    },
    {
      "cell_type": "code",
      "source": [
        "n_test = 5000\n",
        "# Randomly allocate the n samples for class 1  to the 10 clusters\n",
        "id1_test = np.random.randint(csize, size = n_test)\n",
        "id0_test = np.random.randint(csize, size = n_test)\n",
        "\n",
        "# sd for generating data\n",
        "s = np.sqrt(float(1)/5)\n",
        "\n",
        "testdata = np.random.normal(size = (2 * n_test, p)) * s \\\n",
        "            + np.concatenate([m1[id1_test,:], m0[id0_test,:]])\n",
        "testdata_y = np.concatenate(([1]*n_test, [0]*n_test))\n"
      ],
      "metadata": {
        "id": "hLe47P4ap4nG"
      },
      "execution_count": 6,
      "outputs": []
    },
    {
      "cell_type": "markdown",
      "source": [
        "Scatter plot of the training data"
      ],
      "metadata": {
        "id": "MvejGJHprPCG"
      }
    },
    {
      "cell_type": "code",
      "source": [
        "#plotting training data with two classes\n",
        "plt.scatter(traindata[:n, 0], traindata[:n, 1], c = \"blue\", alpha=0.2, label='Class 1')\n",
        "plt.scatter(traindata[n:, 0], traindata[n:, 1], c = \"red\", alpha=0.2, label='Class 0')\n",
        "\n",
        "#plotting centers\n",
        "plt.scatter(m1[:,0], m1[:,1], marker = '+', s = 100, c = \"blue\")\n",
        "plt.scatter(m0[:,0], m0[:,1], marker = '+', s = 100, c = \"red\")\n",
        "\n",
        "plt.legend()\n",
        "plt.show()"
      ],
      "metadata": {
        "id": "txa-Fc07qPy0",
        "outputId": "8cef2143-152b-431b-d0ed-681ba63b4a7c",
        "colab": {
          "base_uri": "https://localhost:8080/",
          "height": 430
        }
      },
      "execution_count": 7,
      "outputs": [
        {
          "output_type": "display_data",
          "data": {
            "text/plain": [
              "<Figure size 640x480 with 1 Axes>"
            ],
            "image/png": "[encoded data removed]"
          },
          "metadata": {}
        }
      ]
    },
    {
      "cell_type": "code",
      "source": [
        "def knn_prediction(X_train, y_train, X_test, k):\n",
        "\n",
        "  # initialize distance matrix\n",
        "  num_test = X_test.shape[0]\n",
        "  num_train = X_train.shape[0]\n",
        "  dist = np.zeros((num_test, num_train))\n",
        "\n",
        "  # calculate distance between two points\n",
        "  x_squared = np.sum(X_test ** 2, axis=1)  # square of elements along rows\n",
        "  term_2 = -2 * np.matmul(X_test, X_train.T)  # -2*X*Y\n",
        "  y_squared = np.sum(X_train ** 2, axis=1)  # square of elements along rows\n",
        "  dist = np.sqrt(x_squared.reshape(-1, 1) + term_2 + y_squared)\n",
        "\n",
        "  # Get the k nearest samples based on the euclidean distance\n",
        "  k_indices = np.argsort(dist)[:,:k]\n",
        "\n",
        "  # Initialize an array to hold the most common labels for each query point\n",
        "  most_common_labels = np.zeros(k_indices.shape[0], dtype=int)\n",
        "\n",
        "  # get k nearest labels based on nearest distance\n",
        "  k_nearest_labels = [y_train[i] for i in k_indices]\n",
        "\n",
        "  for i, labels in enumerate(k_nearest_labels):\n",
        "    # Find the most common label among the nearest neighbors\n",
        "    most_common = Counter(labels).most_common(1)\n",
        "    most_common_labels[i] = most_common[0][0]\n",
        "\n",
        "  return most_common_labels"
      ],
      "metadata": {
        "id": "Snj5qWKJNn3v"
      },
      "execution_count": 8,
      "outputs": []
    },
    {
      "cell_type": "code",
      "source": [
        "\n",
        "def knn_prediction_with_tie_breaker(X_train, y_train, X_test, k):\n",
        "    # Initialize distance matrix\n",
        "    num_test = X_test.shape[0]\n",
        "    num_train = X_train.shape[0]\n",
        "    dist = np.zeros((num_test, num_train))\n",
        "\n",
        "    # Calculate distance between two points\n",
        "    x_squared = np.sum(X_test ** 2, axis=1).reshape(-1, 1)\n",
        "    term_2 = -2 * np.matmul(X_test, X_train.T)\n",
        "    y_squared = np.sum(X_train ** 2, axis=1)\n",
        "    dist = np.sqrt(x_squared + term_2 + y_squared)\n",
        "\n",
        "    # Get the k nearest samples based on the Euclidean distance\n",
        "    k_indices = np.argsort(dist, axis=1)[:, :k]\n",
        "\n",
        "    # Initialize an array to hold the most common labels for each query point\n",
        "    most_common_labels = np.zeros(num_test, dtype=int)\n",
        "\n",
        "    def weighted_vote(distances, labels):\n",
        "        # Avoid division by zero\n",
        "        weights = 1 / (distances + 1e-5)\n",
        "        label_weights = {}\n",
        "        for label, weight in zip(labels, weights):\n",
        "            if label not in label_weights:\n",
        "                label_weights[label] = 0\n",
        "            label_weights[label] += weight\n",
        "        # Return the label with the highest weight\n",
        "        most_common_label = max(label_weights, key=label_weights.get)\n",
        "        return most_common_label\n",
        "\n",
        "    # Process each query point\n",
        "    for i in range(num_test):\n",
        "        distances = dist[i, k_indices[i]]\n",
        "        labels = y_train[k_indices[i]]\n",
        "        most_common_labels[i] = weighted_vote(distances, labels)\n",
        "\n",
        "    return most_common_labels\n"
      ],
      "metadata": {
        "id": "LVobkFl7FDhF"
      },
      "execution_count": 9,
      "outputs": []
    },
    {
      "cell_type": "code",
      "source": [
        "# invoke knn prediction function\n",
        "\n",
        "# Example dataset (2D points)\n",
        "X_train = np.array([[1, 2], [2, 3], [3, 4], [5, 5], [6, 6], [7, 7]])\n",
        "y_train = np.array([0, 0, 0, 1, 1, 1])\n",
        "\n",
        "# Test samples\n",
        "X_test = np.array([[5, 5], [7, 7]])\n",
        "\n",
        "k=3\n",
        "#knn_prediction(X_train, y_train, X_test, k)\n",
        "#predictions = knn_prediction(traindata, ytrain, testdata, k)\n",
        "#knn_prediction_with_tie_breaker(X_train, y_train, X_test, k)\n",
        "predictions_k1 = knn_prediction_with_tie_breaker(traindata, traindata_y, testdata, 1)\n",
        "predictions_k3 = knn_prediction_with_tie_breaker(traindata, traindata_y, testdata, 3)\n",
        "predictions_k5 = knn_prediction_with_tie_breaker(traindata, traindata_y, testdata, 5)\n"
      ],
      "metadata": {
        "id": "2lkik05tOer8"
      },
      "execution_count": 10,
      "outputs": []
    },
    {
      "cell_type": "code",
      "source": [
        "from sklearn.neighbors import KNeighborsClassifier\n",
        "\n",
        "k = 1\n",
        "knn = KNeighborsClassifier(n_neighbors=k)\n",
        "knn.fit(traindata, traindata_y)\n",
        "\n",
        "# Predict on the test set\n",
        "prediction_skl_k1 = knn.predict(testdata)\n",
        "\n",
        "k = 3\n",
        "knn = KNeighborsClassifier(n_neighbors=k)\n",
        "knn.fit(traindata, traindata_y)\n",
        "\n",
        "# Predict on the test set\n",
        "prediction_skl_k3 = knn.predict(testdata)\n",
        "\n",
        "\n",
        "k = 5\n",
        "knn = KNeighborsClassifier(n_neighbors=k)\n",
        "knn.fit(traindata, traindata_y)\n",
        "\n",
        "# Predict on the test set\n",
        "prediction_skl_k5 = knn.predict(testdata)\n"
      ],
      "metadata": {
        "id": "BABFKkpsMTfR"
      },
      "execution_count": 11,
      "outputs": []
    },
    {
      "cell_type": "code",
      "source": [
        "from sklearn.metrics import confusion_matrix\n",
        "import seaborn as sns\n",
        "import matplotlib.pyplot as plt\n",
        "import pandas as pd\n",
        "\n",
        "# Create the confusion matrix and convert into dataframe\n",
        "cm_scratch_k1 = confusion_matrix(testdata_y, predictions_k1)\n",
        "cm_df_scratch_k1 = pd.DataFrame(cm_scratch_k1)\n",
        "\n",
        "cm_scratch_k3 = confusion_matrix(testdata_y, predictions_k3)\n",
        "cm_df_scratch_k3 = pd.DataFrame(cm_scratch_k3)\n",
        "\n",
        "cm_scratch_k5 = confusion_matrix(testdata_y, predictions_k5)\n",
        "cm_df_scratch_k5 = pd.DataFrame(cm_scratch_k5)\n",
        "\n",
        "# Print the labeled confusion matrix as a table\n",
        "print(\"Confusion Matrix with Labels:\")\n",
        "print(\"------------------------------\")\n",
        "print(\"Results from KNN built from scratch for K=1\")\n",
        "print(cm_df_scratch_k1)\n",
        "print(\"------------------------------\")\n",
        "print(\"Results from KNN built from scratch for K=3\")\n",
        "print(cm_df_scratch_k3)\n",
        "print(\"------------------------------\")\n",
        "\n",
        "print(\"Results from KNN built from scratch for K=5\")\n",
        "print(cm_df_scratch_k5)\n",
        "print(\"------------------------------\")\n",
        "\n",
        "\n",
        "# Create the confusion matrix and convert into dataframe\n",
        "cm_sklearn_k1 = confusion_matrix(testdata_y, prediction_skl_k1)\n",
        "cm_df_sklearn_k1 = pd.DataFrame(cm_sklearn_k1)\n",
        "\n",
        "cm_sklearn_k3 = confusion_matrix(testdata_y, prediction_skl_k3)\n",
        "cm_df_sklearn_k3 = pd.DataFrame(cm_sklearn_k3)\n",
        "\n",
        "cm_sklearn_k3 = confusion_matrix(testdata_y, prediction_skl_k5)\n",
        "cm_df_sklearn_k5 = pd.DataFrame(cm_sklearn_k3)\n",
        "\n",
        "# Print the labeled confusion matrix as a table\n",
        "print(\"------------------------------\")\n",
        "print(\"------------------------------\")\n",
        "print(\"Results from KNN using KNeighborsClassifier for K=1\")\n",
        "print(cm_df_sklearn_k1)\n",
        "print(\"------------------------------\")\n",
        "print(\"Results from KNN using KNeighborsClassifier for K=3\")\n",
        "print(cm_df_sklearn_k3)\n",
        "print(\"------------------------------\")\n",
        "\n",
        "print(\"Results from KNN using KNeighborsClassifier for K=5\")\n",
        "print(cm_df_sklearn_k5)\n",
        "print(\"------------------------------\")\n",
        "\n"
      ],
      "metadata": {
        "colab": {
          "base_uri": "https://localhost:8080/"
        },
        "id": "6HLoilXGNYDY",
        "outputId": "63243c4a-0d40-49d2-f221-47c3daaca512"
      },
      "execution_count": 12,
      "outputs": [
        {
          "output_type": "stream",
          "name": "stdout",
          "text": [
            "Confusion Matrix with Labels:\n",
            "------------------------------\n",
            "Results from KNN built from scratch for K=1\n",
            "      0     1\n",
            "0  3733  1267\n",
            "1  1454  3546\n",
            "------------------------------\n",
            "Results from KNN built from scratch for K=3\n",
            "      0     1\n",
            "0  3857  1143\n",
            "1  1416  3584\n",
            "------------------------------\n",
            "Results from KNN built from scratch for K=5\n",
            "      0     1\n",
            "0  3929  1071\n",
            "1  1440  3560\n",
            "------------------------------\n",
            "------------------------------\n",
            "------------------------------\n",
            "Results from KNN using KNeighborsClassifier for K=1\n",
            "      0     1\n",
            "0  3733  1267\n",
            "1  1454  3546\n",
            "------------------------------\n",
            "Results from KNN using KNeighborsClassifier for K=3\n",
            "      0     1\n",
            "0  3923  1077\n",
            "1  1366  3634\n",
            "------------------------------\n",
            "Results from KNN using KNeighborsClassifier for K=5\n",
            "      0     1\n",
            "0  3998  1002\n",
            "1  1428  3572\n",
            "------------------------------\n"
          ]
        }
      ]
    },
    {
      "cell_type": "code",
      "source": [
        "import numpy as np\n",
        "from sklearn.neighbors import KNeighborsClassifier\n",
        "from sklearn.model_selection import KFold, train_test_split\n",
        "from sklearn.datasets import make_classification\n",
        "from sklearn.metrics import accuracy_score\n",
        "\n",
        "# Step 1: Generate a synthetic dataset with 200 samples and 5 features\n",
        "X, y = make_classification(n_samples=200, n_features=5, n_informative=3, n_classes=2, random_state=42)\n",
        "\n",
        "# Step 2: Split the dataset into training and testing sets (80% train, 20% test)\n",
        "X_train, X_test, y_train, y_test = train_test_split(X, y, test_size=0.2, random_state=42)\n",
        "\n",
        "# Step 3: Initialize cross-validation parameters\n",
        "kf = KFold(n_splits=10, shuffle=True, random_state=42)  # 10-fold cross-validation\n",
        "\n",
        "# Step 4: Iterate over different values of k (from 1 to 180)\n",
        "k_range = range(1, 181)\n",
        "cv_scores = []\n",
        "\n",
        "for k in k_range:\n",
        "    fold_accuracies = []\n",
        "\n",
        "    # Step 5: Cross-validation loop\n",
        "    for train_index, val_index in kf.split(X_train):\n",
        "        X_train_fold, X_val_fold = X_train[train_index], X_train[val_index]\n",
        "        y_train_fold, y_val_fold = y_train[train_index], y_train[val_index]\n",
        "\n",
        "        # Step 6: Train KNN model for the current fold and k\n",
        "        knn = KNeighborsClassifier(n_neighbors=k)\n",
        "        knn.fit(X_train_fold, y_train_fold)\n",
        "\n",
        "        # Step 7: Evaluate on the validation fold\n",
        "        y_val_pred = knn.predict(X_val_fold)\n",
        "        accuracy = accuracy_score(y_val_fold, y_val_pred)\n",
        "        fold_accuracies.append(accuracy)\n",
        "\n",
        "    # Step 8: Calculate average accuracy for the current k\n",
        "    avg_accuracy = np.mean(fold_accuracies)\n",
        "    cv_scores.append(avg_accuracy)\n",
        "\n",
        "# Step 9: Identify the best k\n",
        "best_k = np.argmax(cv_scores) + 1  # Adding 1 because index 0 corresponds to k=1\n",
        "best_cv_score = cv_scores[best_k - 1]\n",
        "\n",
        "print(f\"Best k: {best_k}\")\n",
        "print(f\"Best cross-validated accuracy: {best_cv_score:.2f}\")\n",
        "\n",
        "# Step 10: Train the final KNN model using the best k on the full training data\n",
        "best_knn = KNeighborsClassifier(n_neighbors=best_k)\n",
        "best_knn.fit(X_train, y_train)\n",
        "\n",
        "# Step 11: Predict on the test set and evaluate the final model\n",
        "y_test_pred = best_knn.predict(X_test)\n",
        "test_accuracy = accuracy_score(y_test, y_test_pred)\n",
        "\n",
        "print(f\"Test set accuracy with k={best_k}: {test_accuracy:.2f}\")\n"
      ],
      "metadata": {
        "colab": {
          "base_uri": "https://localhost:8080/",
          "height": 365
        },
        "id": "xEAEi_JW0FlN",
        "outputId": "3171553d-74a2-437b-d085-77e4922fdd60"
      },
      "execution_count": 13,
      "outputs": [
        {
          "output_type": "error",
          "ename": "ValueError",
          "evalue": "Expected n_neighbors <= n_samples,  but n_samples = 144, n_neighbors = 145",
          "traceback": [
            "\u001b[0;31m---------------------------------------------------------------------------\u001b[0m",
            "\u001b[0;31mValueError\u001b[0m                                Traceback (most recent call last)",
            "\u001b[0;32m<ipython-input-13-0593849a0d89>\u001b[0m in \u001b[0;36m<cell line: 20>\u001b[0;34m()\u001b[0m\n\u001b[1;32m     31\u001b[0m \u001b[0;34m\u001b[0m\u001b[0m\n\u001b[1;32m     32\u001b[0m         \u001b[0;31m# Step 7: Evaluate on the validation fold\u001b[0m\u001b[0;34m\u001b[0m\u001b[0;34m\u001b[0m\u001b[0m\n\u001b[0;32m---> 33\u001b[0;31m         \u001b[0my_val_pred\u001b[0m \u001b[0;34m=\u001b[0m \u001b[0mknn\u001b[0m\u001b[0;34m.\u001b[0m\u001b[0mpredict\u001b[0m\u001b[0;34m(\u001b[0m\u001b[0mX_val_fold\u001b[0m\u001b[0;34m)\u001b[0m\u001b[0;34m\u001b[0m\u001b[0;34m\u001b[0m\u001b[0m\n\u001b[0m\u001b[1;32m     34\u001b[0m         \u001b[0maccuracy\u001b[0m \u001b[0;34m=\u001b[0m \u001b[0maccuracy_score\u001b[0m\u001b[0;34m(\u001b[0m\u001b[0my_val_fold\u001b[0m\u001b[0;34m,\u001b[0m \u001b[0my_val_pred\u001b[0m\u001b[0;34m)\u001b[0m\u001b[0;34m\u001b[0m\u001b[0;34m\u001b[0m\u001b[0m\n\u001b[1;32m     35\u001b[0m         \u001b[0mfold_accuracies\u001b[0m\u001b[0;34m.\u001b[0m\u001b[0mappend\u001b[0m\u001b[0;34m(\u001b[0m\u001b[0maccuracy\u001b[0m\u001b[0;34m)\u001b[0m\u001b[0;34m\u001b[0m\u001b[0;34m\u001b[0m\u001b[0m\n",
            "\u001b[0;32m/usr/local/lib/python3.10/dist-packages/sklearn/neighbors/_classification.py\u001b[0m in \u001b[0;36mpredict\u001b[0;34m(self, X)\u001b[0m\n\u001b[1;32m    252\u001b[0m                 \u001b[0mX\u001b[0m\u001b[0;34m,\u001b[0m \u001b[0mself\u001b[0m\u001b[0;34m.\u001b[0m\u001b[0m_fit_X\u001b[0m\u001b[0;34m,\u001b[0m \u001b[0mself\u001b[0m\u001b[0;34m.\u001b[0m\u001b[0mmetric\u001b[0m\u001b[0;34m\u001b[0m\u001b[0;34m\u001b[0m\u001b[0m\n\u001b[1;32m    253\u001b[0m             ):\n\u001b[0;32m--> 254\u001b[0;31m                 \u001b[0mprobabilities\u001b[0m \u001b[0;34m=\u001b[0m \u001b[0mself\u001b[0m\u001b[0;34m.\u001b[0m\u001b[0mpredict_proba\u001b[0m\u001b[0;34m(\u001b[0m\u001b[0mX\u001b[0m\u001b[0;34m)\u001b[0m\u001b[0;34m\u001b[0m\u001b[0;34m\u001b[0m\u001b[0m\n\u001b[0m\u001b[1;32m    255\u001b[0m                 \u001b[0;32mif\u001b[0m \u001b[0mself\u001b[0m\u001b[0;34m.\u001b[0m\u001b[0moutputs_2d_\u001b[0m\u001b[0;34m:\u001b[0m\u001b[0;34m\u001b[0m\u001b[0;34m\u001b[0m\u001b[0m\n\u001b[1;32m    256\u001b[0m                     return np.stack(\n",
            "\u001b[0;32m/usr/local/lib/python3.10/dist-packages/sklearn/neighbors/_classification.py\u001b[0m in \u001b[0;36mpredict_proba\u001b[0;34m(self, X)\u001b[0m\n\u001b[1;32m    353\u001b[0m             \u001b[0;31m# In that case, we do not need the distances to perform\u001b[0m\u001b[0;34m\u001b[0m\u001b[0;34m\u001b[0m\u001b[0m\n\u001b[1;32m    354\u001b[0m             \u001b[0;31m# the weighting so we do not compute them.\u001b[0m\u001b[0;34m\u001b[0m\u001b[0;34m\u001b[0m\u001b[0m\n\u001b[0;32m--> 355\u001b[0;31m             \u001b[0mneigh_ind\u001b[0m \u001b[0;34m=\u001b[0m \u001b[0mself\u001b[0m\u001b[0;34m.\u001b[0m\u001b[0mkneighbors\u001b[0m\u001b[0;34m(\u001b[0m\u001b[0mX\u001b[0m\u001b[0;34m,\u001b[0m \u001b[0mreturn_distance\u001b[0m\u001b[0;34m=\u001b[0m\u001b[0;32mFalse\u001b[0m\u001b[0;34m)\u001b[0m\u001b[0;34m\u001b[0m\u001b[0;34m\u001b[0m\u001b[0m\n\u001b[0m\u001b[1;32m    356\u001b[0m             \u001b[0mneigh_dist\u001b[0m \u001b[0;34m=\u001b[0m \u001b[0;32mNone\u001b[0m\u001b[0;34m\u001b[0m\u001b[0;34m\u001b[0m\u001b[0m\n\u001b[1;32m    357\u001b[0m         \u001b[0;32melse\u001b[0m\u001b[0;34m:\u001b[0m\u001b[0;34m\u001b[0m\u001b[0;34m\u001b[0m\u001b[0m\n",
            "\u001b[0;32m/usr/local/lib/python3.10/dist-packages/sklearn/neighbors/_base.py\u001b[0m in \u001b[0;36mkneighbors\u001b[0;34m(self, X, n_neighbors, return_distance)\u001b[0m\n\u001b[1;32m    806\u001b[0m         \u001b[0mn_samples_fit\u001b[0m \u001b[0;34m=\u001b[0m \u001b[0mself\u001b[0m\u001b[0;34m.\u001b[0m\u001b[0mn_samples_fit_\u001b[0m\u001b[0;34m\u001b[0m\u001b[0;34m\u001b[0m\u001b[0m\n\u001b[1;32m    807\u001b[0m         \u001b[0;32mif\u001b[0m \u001b[0mn_neighbors\u001b[0m \u001b[0;34m>\u001b[0m \u001b[0mn_samples_fit\u001b[0m\u001b[0;34m:\u001b[0m\u001b[0;34m\u001b[0m\u001b[0;34m\u001b[0m\u001b[0m\n\u001b[0;32m--> 808\u001b[0;31m             raise ValueError(\n\u001b[0m\u001b[1;32m    809\u001b[0m                 \u001b[0;34m\"Expected n_neighbors <= n_samples, \"\u001b[0m\u001b[0;34m\u001b[0m\u001b[0;34m\u001b[0m\u001b[0m\n\u001b[1;32m    810\u001b[0m                 \u001b[0;34m\" but n_samples = %d, n_neighbors = %d\"\u001b[0m \u001b[0;34m%\u001b[0m \u001b[0;34m(\u001b[0m\u001b[0mn_samples_fit\u001b[0m\u001b[0;34m,\u001b[0m \u001b[0mn_neighbors\u001b[0m\u001b[0;34m)\u001b[0m\u001b[0;34m\u001b[0m\u001b[0;34m\u001b[0m\u001b[0m\n",
            "\u001b[0;31mValueError\u001b[0m: Expected n_neighbors <= n_samples,  but n_samples = 144, n_neighbors = 145"
          ]
        }
      ]
    },
    {
      "cell_type": "markdown",
      "source": [],
      "metadata": {
        "id": "uixtPHtQ8GlT"
      }
    },
    {
      "cell_type": "code",
      "source": [
        "def cvKNN_accuracy(X, y, k, num_folds=10):\n",
        "    # ideally training data should be shuffled on indices; however since we have randomly created training data; we can skip shuffling altogether\n",
        "    np.random.seed(42)  # Set a random seed for reproducibility\n",
        "    indices = np.random.permutation(X.shape[0])  # Get a shuffled index array\n",
        "    X, y = X[indices], y[indices]  # Shuffle X and y based on the shuffled indices\n",
        "\n",
        "    fold_size = len(X) // num_folds  # Calculate fold size\n",
        "    k_error = []\n",
        "    accuracy = []\n",
        "    for i in range(num_folds):\n",
        "        start = i * fold_size\n",
        "        end = (i + 1) * fold_size if i != num_folds - 1 else len(X)\n",
        "\n",
        "        # Create validation fold\n",
        "        X_val = X[start:end]\n",
        "        y_val = y[start:end]\n",
        "\n",
        "        # Create training folds by excluding the validation fold\n",
        "        X_train_fold = np.concatenate([X[:start], X[end:]], axis=0)\n",
        "        y_train_fold = np.concatenate([y[:start], y[end:]], axis=0)\n",
        "\n",
        "        knn = KNeighborsClassifier(n_neighbors=k)\n",
        "        knn.fit(X_train_fold, y_train_fold)\n",
        "\n",
        "        # Step 7: Predict and evaluate on the validation fold\n",
        "        y_val_pred = knn.predict(X_val)\n",
        "        accuracy.append(np.sum(y_val == y_val_pred) / len(y_val))\n",
        "        error =  1 - np.sum(y_val == y_val_pred) / len(y_val)\n",
        "        k_error.append(error)\n",
        "\n",
        "    # Step 8: Calculate average accuracy for the current k\n",
        "    avg_error = np.mean(k_error)\n",
        "    return avg_error, np.mean(accuracy)\n",
        "\n",
        "\n",
        "def cvKNN_implementations(traindata,traindata_y):\n",
        "  k_range = range(1, 181)\n",
        "  all_errors = []\n",
        "  accuracy_list = []\n",
        "  for k in k_range:\n",
        "    k_error, accuracy = cvKNN_accuracy(traindata, traindata_y, k)\n",
        "    all_errors.append(k_error)\n",
        "    accuracy_list.append(accuracy)\n",
        "\n",
        "  minimum_error = min(all_errors)\n",
        "  minimum_error_index = all_errors.index(minimum_error)\n",
        "  best_k = k_range[minimum_error_index]\n",
        "  k_with_min_error = [k_range[i] for i, error in enumerate(all_errors) if error == minimum_error]\n",
        "  final_k = max(k_with_min_error)\n",
        "  return final_k\n"
      ],
      "metadata": {
        "id": "9zTK6T0oHDYR"
      },
      "execution_count": 14,
      "outputs": []
    },
    {
      "cell_type": "code",
      "source": [
        "optimized_k = cvKNN_implementations(traindata, traindata_y)\n",
        "print(optimized_k)"
      ],
      "metadata": {
        "colab": {
          "base_uri": "https://localhost:8080/"
        },
        "id": "ptQ47mnSj25Z",
        "outputId": "ca683fa4-4ee5-41f4-b6a4-f1188609c33c"
      },
      "execution_count": 15,
      "outputs": [
        {
          "output_type": "stream",
          "name": "stdout",
          "text": [
            "19\n"
          ]
        }
      ]
    },
    {
      "cell_type": "code",
      "source": [
        "final_knn = KNeighborsClassifier(n_neighbors=optimized_k)\n",
        "final_knn.fit(traindata, traindata_y)\n",
        "\n",
        "# Predict on the test set\n",
        "final_prediction = final_knn.predict(testdata)\n",
        "\n",
        "#results as confusion matrix\n",
        "matrix_confusion = confusion_matrix(testdata_y, final_prediction)\n",
        "cvv_df_conf_matrix = pd.DataFrame(matrix_confusion)\n",
        "print(\"Confusion Matrix:\")\n",
        "print(cvv_df_conf_matrix)\n",
        "print(matrix_confusion)"
      ],
      "metadata": {
        "colab": {
          "base_uri": "https://localhost:8080/"
        },
        "id": "MutwlEfVj-hg",
        "outputId": "d66411c5-4fe4-4318-e103-be0ebf77b088"
      },
      "execution_count": 16,
      "outputs": [
        {
          "output_type": "stream",
          "name": "stdout",
          "text": [
            "Confusion Matrix:\n",
            "      0     1\n",
            "0  4514   486\n",
            "1  1645  3355\n",
            "[[4514  486]\n",
            " [1645 3355]]\n"
          ]
        }
      ]
    },
    {
      "cell_type": "code",
      "source": [
        "train_err_cvknn = 1 - final_knn.score(traindata, traindata_y)\n",
        "test_err_cvknn = 1- final_knn.score(testdata, testdata_y)\n",
        "print(train_err_cvknn)\n",
        "print(test_err_cvknn)"
      ],
      "metadata": {
        "colab": {
          "base_uri": "https://localhost:8080/"
        },
        "id": "mmCOd01UmTyV",
        "outputId": "bd8e77e2-26f4-4d07-d1fb-12f0beae01ca"
      },
      "execution_count": 17,
      "outputs": [
        {
          "output_type": "stream",
          "name": "stdout",
          "text": [
            "0.18000000000000005\n",
            "0.21309999999999996\n"
          ]
        }
      ]
    },
    {
      "cell_type": "code",
      "source": [
        "def bayes_theorem_classifier(test_data, m0, m1, s):\n",
        "  #print(test_data[1:5,:])\n",
        "\n",
        "  distance_0 = np.sum((test_data[:, np.newaxis, :] - m0) ** 2, axis=2)\n",
        "  distance_1 = np.sum((test_data[:, np.newaxis, :] - m1) ** 2, axis=2)\n",
        "\n",
        "  exponent_0 = -distance_0 / (2 * (s ** 2))\n",
        "  exponent_1 = -distance_1 / (2 * (s ** 2))\n",
        "\n",
        "  likelihood_0 = np.sum(np.exp(exponent_0), axis=1)\n",
        "  likelihood_1 = np.sum(np.exp(exponent_1), axis=1)\n",
        "\n",
        "  ratio = likelihood_1 / likelihood_0\n",
        "  predictions = (ratio >= 1).astype(int)\n",
        "\n",
        "  return predictions\n",
        "\n",
        "predictions = bayes_theorem_classifier(testdata, m0, m1, s)\n",
        "conf_matrix_bayes = confusion_matrix(testdata_y, predictions)\n",
        "print(conf_matrix_bayes)"
      ],
      "metadata": {
        "colab": {
          "base_uri": "https://localhost:8080/"
        },
        "id": "-OOKFG44NurI",
        "outputId": "94684ffd-0240-473e-c026-539fce493bda"
      },
      "execution_count": 65,
      "outputs": [
        {
          "output_type": "stream",
          "name": "stdout",
          "text": [
            "[[4164  836]\n",
            " [1054 3946]]\n"
          ]
        }
      ]
    },
    {
      "cell_type": "code",
      "source": [
        "simulations = 50\n",
        "k = 7\n",
        "\n",
        "knn_errors, cvKNN_errors, bayes_errors, k_list = [], [], [], []\n",
        "def generatedata_for_sims(m0, m1,sim):\n",
        "  # generate training data\n",
        "  n_train = 100\n",
        "  id1_train = np.random.randint(csize, size = n_train)\n",
        "  id0_train = np.random.randint(csize, size = n_train)\n",
        "  s = np.sqrt(float(1)/sim)\n",
        "  traindata_sims = np.random.normal(size = (2 * n_train, p)) * s + np.concatenate([m1[id1_train,:], m0[id0_train,:]])\n",
        "  traindata_sims_y = np.concatenate(([1]*n_train, [0]*n_train))\n",
        "\n",
        "  # generate test data\n",
        "  n_test = 5000\n",
        "  id1_test = np.random.randint(csize, size = n_test)\n",
        "  id0_test = np.random.randint(csize, size = n_test)\n",
        "  s = np.sqrt(float(1)/sim)\n",
        "  testdata_sims = np.random.normal(size = (2 * n_test, p)) * s + np.concatenate([m1[id1_test,:], m0[id0_test,:]])\n",
        "  testdata_sims_y = np.concatenate(([1]*n_test, [0]*n_test))\n",
        "  #print(traindata_sims[1:5,:])\n",
        "  #print(traindata_sims_y[1:5])\n",
        "  #print(testdata_sims[1:5,:])\n",
        "  #print(testdata_sims_y[1:5])\n",
        "\n",
        "  return traindata_sims, traindata_sims_y, testdata_sims, testdata_sims_y,s\n",
        "\n",
        "\n",
        "for i in range(simulations):\n",
        "    x_train, y_train, x_test, y_test,std = generatedata_for_sims(m0, m1,i+1)\n",
        "\n",
        "    #tain knn on given k and keep track of error\n",
        "    knn = KNeighborsClassifier(n_neighbors=k)\n",
        "    knn.fit(x_train, y_train)\n",
        "    y_knn_pred = knn.predict(x_test)\n",
        "    error =  1 - np.sum(y_test == y_knn_pred) / len(y_test)\n",
        "    knn_errors.append(error)\n",
        "\n",
        "    #find optimized k using cv_knn implementation\n",
        "    k_for_sim = cvKNN_implementations(x_train, y_train)\n",
        "    k_list.append(k_for_sim)\n",
        "\n",
        "    #train cvKNN on given k and keep track of error\n",
        "    cvKnn_for_sim = KNeighborsClassifier(n_neighbors=k_for_sim)\n",
        "    cvKnn_for_sim.fit(x_train, y_train)\n",
        "    y_cvknn_pred = cvKnn_for_sim.predict(x_test)\n",
        "    error =  1 - np.sum(y_test == y_cvknn_pred) / len(y_test)\n",
        "    cvKNN_errors.append(error)\n",
        "\n",
        "    #classification based on bayes theorem\n",
        "    #print(\"bayes theorem\")\n",
        "    #print(x_test[1:5,:])\n",
        "    bayes_y = bayes_theorem_classifier(x_test, m0, m1, std)\n",
        "    bayes_error =  1 - np.sum(y_test == bayes_y) / len(y_test)\n",
        "    bayes_errors.append(bayes_error)\n"
      ],
      "metadata": {
        "id": "svu2ZxNiZBxS"
      },
      "execution_count": 66,
      "outputs": []
    },
    {
      "cell_type": "code",
      "source": [
        "# plot the errors\n",
        "plot_data = [knn_errors,cvKNN_errors, bayes_errors]\n",
        "methods = ['KNN', 'CVKNN', 'Bayes']\n",
        "plt.boxplot(plot_data)\n",
        "plt.title('Box Plot of Errors')\n",
        "plt.xlabel('Model')\n",
        "plt.ylabel('Error')\n",
        "plt.xticks(range(1, len(methods) + 1), methods)\n",
        "plt.show()"
      ],
      "metadata": {
        "id": "kKN3B55Aib8E",
        "outputId": "ac678091-f98b-4387-d81d-75780c3e8fa2",
        "colab": {
          "base_uri": "https://localhost:8080/",
          "height": 472
        }
      },
      "execution_count": 68,
      "outputs": [
        {
          "output_type": "display_data",
          "data": {
            "text/plain": [
              "<Figure size 640x480 with 1 Axes>"
            ],
            "image/png": "[encoded data removed]"
          },
          "metadata": {}
        }
      ]
    },
    {
      "cell_type": "code",
      "source": [
        "print(bayes_errors)\n",
        "print(cvKNN_errors)\n",
        "print(knn_errors)"
      ],
      "metadata": {
        "colab": {
          "base_uri": "https://localhost:8080/"
        },
        "id": "Zs3oL32ci3Bb",
        "outputId": "ff529a36-66e6-486f-b833-76a3e9ed4189"
      },
      "execution_count": 59,
      "outputs": [
        {
          "output_type": "stream",
          "name": "stdout",
          "text": [
            "[0.19899999999999995, 0.19899999999999995, 0.19899999999999995, 0.19899999999999995, 0.19899999999999995]\n",
            "[0.22660000000000002, 0.22950000000000004, 0.22060000000000002, 0.22240000000000004, 0.2228]\n",
            "[0.29400000000000004, 0.27969999999999995, 0.24980000000000002, 0.22970000000000002, 0.22340000000000004]\n"
          ]
        }
      ]
    },
    {
      "cell_type": "code",
      "source": [
        "print(bayes_y)\n",
        "print(y_test)"
      ],
      "metadata": {
        "colab": {
          "base_uri": "https://localhost:8080/"
        },
        "id": "fAcamrmUjt9i",
        "outputId": "eb90e5b4-70fd-4e0c-e0bb-aab5cf2690d7"
      },
      "execution_count": 52,
      "outputs": [
        {
          "output_type": "stream",
          "name": "stdout",
          "text": [
            "[1 1 1 ... 0 0 0]\n",
            "[1 1 1 ... 0 0 0]\n"
          ]
        }
      ]
    },
    {
      "cell_type": "code",
      "source": [
        "k_array = np.array(k_list)\n",
        "print(f\"min of k_array: {np.min(k_array)}\")\n",
        "print(f\"max of k_array: {np.max(k_array)}\")\n",
        "print(f\"median of k_array: {np.median(k_array)}\")\n",
        "print(f\"25 percentile of k_array: {np.percentile(k_array,25)}\")\n",
        "print(f\"75 percentile of k_array: {np.percentile(k_array,75)}\")\n"
      ],
      "metadata": {
        "colab": {
          "base_uri": "https://localhost:8080/"
        },
        "id": "OIWQMVbsf7Ey",
        "outputId": "4df41083-14d3-4aba-9711-90766b269a95"
      },
      "execution_count": 69,
      "outputs": [
        {
          "output_type": "stream",
          "name": "stdout",
          "text": [
            "min of k_array: 5\n",
            "max of k_array: 170\n",
            "median of k_array: 9.0\n",
            "25 percentile of k_array: 7.0\n",
            "75 percentile of k_array: 11.0\n"
          ]
        }
      ]
    }
  ]
}