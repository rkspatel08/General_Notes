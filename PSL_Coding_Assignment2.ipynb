{
  "nbformat": 4,
  "nbformat_minor": 0,
  "metadata": {
    "colab": {
      "provenance": [],
      "authorship_tag": "ABX9TyNjJnxd6HoY2tkCAv1F4/Bx",
      "include_colab_link": true
    },
    "kernelspec": {
      "name": "python3",
      "display_name": "Python 3"
    },
    "language_info": {
      "name": "python"
    }
  },
  "cells": [
    {
      "cell_type": "markdown",
      "metadata": {
        "id": "view-in-github",
        "colab_type": "text"
      },
      "source": [
        "<a href=\"https://colab.research.google.com/github/rkspatel08/General_Notes/blob/main/PSL_Coding_Assignment2.ipynb\" target=\"_parent\"><img src=\"https://colab.research.google.com/assets/colab-badge.svg\" alt=\"Open In Colab\"/></a>"
      ]
    },
    {
      "cell_type": "code",
      "execution_count": 20,
      "metadata": {
        "id": "aaKCAf7SE6X0"
      },
      "outputs": [],
      "source": [
        "import pandas as pd\n",
        "import numpy as np\n",
        "import matplotlib.pyplot as plt\n",
        "\n",
        "from sklearn.metrics import mean_squared_error\n",
        "from sklearn.model_selection import train_test_split\n",
        "from sklearn.linear_model import LinearRegression as lm\n",
        "from sklearn.linear_model import Ridge, RidgeCV, Lasso, LassoCV\n",
        "\n",
        "from sklearn.decomposition import PCA\n",
        "from sklearn.preprocessing import StandardScaler\n",
        "from sklearn.pipeline import Pipeline"
      ]
    },
    {
      "cell_type": "code",
      "source": [
        "url = \"https://raw.githubusercontent.com/liangfgithub/liangfgithub.github.io/master/Data/Coding2_Data1.csv\"\n",
        "myData = pd.read_csv(url)\n",
        "# myData.head()\n",
        "Y = myData['Y']\n",
        "X = myData.drop(['Y'], axis = 1)"
      ],
      "metadata": {
        "id": "l8Oz6sKxFyK_"
      },
      "execution_count": 5,
      "outputs": []
    },
    {
      "cell_type": "code",
      "source": [
        "X.shape, len(Y)"
      ],
      "metadata": {
        "colab": {
          "base_uri": "https://localhost:8080/"
        },
        "id": "BytCfAShGOvf",
        "outputId": "1b76f3d2-480e-4696-b693-7a18dfce9e6e"
      },
      "execution_count": 6,
      "outputs": [
        {
          "output_type": "execute_result",
          "data": {
            "text/plain": [
              "((506, 91), 506)"
            ]
          },
          "metadata": {},
          "execution_count": 6
        }
      ]
    },
    {
      "cell_type": "markdown",
      "source": [
        "**Conduct the following simulation exercise 50 times:**\n",
        "\n",
        "\n",
        "a. In each iteration, randomly split the data into two parts, 75% for training and 25% for testing.\n",
        "\n",
        "b. For each of the six procedures, train a model using the training subset and generate predictions for the test subset. Record the MSPE (Mean Squared Prediction Error) based on these test data predictions."
      ],
      "metadata": {
        "id": "XV6ckbPbSL_S"
      }
    },
    {
      "cell_type": "code",
      "source": [
        "# randomly split the data into two parts, 75% for training and 25% for testing.\n",
        "def split_train_test(X, Y):\n",
        "  # Splitting the data into training and testing sets\n",
        "  n = len(Y)\n",
        "  indices = np.arange(0, n)\n",
        "  np.random.shuffle(indices)\n",
        "  test_ind = indices[:int(np.floor(0.25*n))]\n",
        "  train_ind = indices[len(test_ind):]\n",
        "\n",
        "  # Splitting the data into training and testing sets\n",
        "  X_train1 = X.iloc[train_ind]\n",
        "  Y_train = Y[train_ind]\n",
        "  X_test1 = X.iloc[test_ind]\n",
        "  Y_test = Y[test_ind]\n",
        "  scaler = StandardScaler(with_mean=True, with_std=True)\n",
        "  X_train = scaler.fit_transform(X_train1)\n",
        "  X_test = scaler.transform(X_test1)\n",
        "  return X_train, Y_train, X_test, Y_test"
      ],
      "metadata": {
        "id": "F3QHSXcuGRje"
      },
      "execution_count": 42,
      "outputs": []
    },
    {
      "cell_type": "code",
      "source": [
        "split_train_test(X, Y)"
      ],
      "metadata": {
        "colab": {
          "base_uri": "https://localhost:8080/"
        },
        "id": "Odlg3jZ9oAkP",
        "outputId": "d0715193-0d2b-48ed-8e13-2f4d2e6f47e0"
      },
      "execution_count": 40,
      "outputs": [
        {
          "output_type": "stream",
          "name": "stdout",
          "text": [
            "<class 'pandas.core.frame.DataFrame'>\n",
            "<class 'pandas.core.series.Series'>\n",
            "<class 'numpy.ndarray'>\n",
            "<class 'pandas.core.series.Series'>\n",
            "<class 'numpy.ndarray'>\n",
            "<class 'pandas.core.series.Series'>\n"
          ]
        },
        {
          "output_type": "execute_result",
          "data": {
            "text/plain": [
              "(array([[-0.57496449,  0.50904529, -0.53695797, ...,  0.13561317,\n",
              "         -0.4913875 , -0.57307578],\n",
              "        [-0.20919268, -0.46802246, -0.23744667, ...,  0.48504264,\n",
              "         -0.28272136, -0.52248648],\n",
              "        [-1.48568301,  3.30701202, -3.22429786, ..., -0.66629812,\n",
              "         -0.92951548, -0.59444485],\n",
              "        ...,\n",
              "        [-0.74271605, -0.46802246,  1.38043403, ...,  0.068882  ,\n",
              "          0.12205357,  0.88997465],\n",
              "        [-1.30868833, -0.46802246, -1.82114407, ..., -0.1030123 ,\n",
              "         -0.65969282, -0.71973683],\n",
              "        [-0.38012541, -0.46802246, -0.04481506, ...,  1.77085156,\n",
              "          1.28324167,  0.55332252]]),\n",
              " 250    3.194583\n",
              " 326    3.135494\n",
              " 56     3.206803\n",
              " 396    2.525729\n",
              " 302    3.273364\n",
              "          ...   \n",
              " 312    2.965273\n",
              " 317    2.985682\n",
              " 124    2.933857\n",
              " 5      3.356897\n",
              " 103    2.960105\n",
              " Name: Y, Length: 380, dtype: float64,\n",
              " array([[ 8.64856410e-01, -4.68022464e-01,  1.02973982e+00, ...,\n",
              "         -1.26598495e+00, -1.14874377e+00, -1.06304941e+00],\n",
              "        [ 1.24641365e+00, -4.68022464e-01,  9.27666328e-01, ...,\n",
              "          9.74526046e-01, -4.07089339e-01, -1.24401957e+00],\n",
              "        [-4.86670007e-01, -4.68022464e-01,  1.38043403e+00, ...,\n",
              "          9.11520501e-02,  2.25095594e-03,  6.36129229e-01],\n",
              "        ...,\n",
              "        [ 2.65109307e-01,  4.20220944e-01, -1.04265011e+00, ...,\n",
              "         -1.29373355e+00, -1.23447724e+00,  2.58486848e-01],\n",
              "        [-1.34532843e+00,  2.86289032e+00, -1.42831309e+00, ...,\n",
              "         -2.94758055e-01, -8.11250549e-01, -8.99773506e-01],\n",
              "        [-3.82889221e-01,  4.20220944e-01, -1.27095340e+00, ...,\n",
              "         -1.13704953e+00, -1.19340411e+00, -7.79165214e-01]]),\n",
              " 165    3.218876\n",
              " 370    3.912023\n",
              " 125    3.063391\n",
              " 423    2.595255\n",
              " 478    2.681022\n",
              "          ...   \n",
              " 70     3.186353\n",
              " 14     2.901422\n",
              " 263    3.433987\n",
              " 39     3.427515\n",
              " 279    3.558201\n",
              " Name: Y, Length: 126, dtype: float64)"
            ]
          },
          "metadata": {},
          "execution_count": 40
        }
      ]
    },
    {
      "cell_type": "markdown",
      "source": [
        "**PCR Implemenation (as given in sample code)**"
      ],
      "metadata": {
        "id": "GBC6ggUnlmyc"
      }
    },
    {
      "cell_type": "code",
      "source": [
        "class PCR(object):\n",
        "\n",
        "    def __init__(self, num_folds=10):\n",
        "        self.folds = num_folds\n",
        "\n",
        "    def fit(self, X, Y):\n",
        "        n, p = X.shape\n",
        "        indices = np.arange(n)\n",
        "        np.random.shuffle(indices)\n",
        "        index_sets = np.array_split(indices, self.folds)\n",
        "        ncomp = min(p, n - 1 - max([len(i) for i in index_sets]))\n",
        "        cv_err = np.zeros(ncomp)\n",
        "\n",
        "        for ifold in range(self.folds):\n",
        "            train_inds =  np.delete(index_sets, obj=ifold, axis=0).ravel()\n",
        "            test_inds = index_sets[ifold]\n",
        "\n",
        "            X_train = X[train_inds, :]\n",
        "            pipeline = Pipeline([('scaling', StandardScaler()), ('pca', PCA())])\n",
        "            pipeline.fit(X_train)\n",
        "            X_train = pipeline.transform(X_train)\n",
        "            coefs = Y[train_inds].T @ X_train / np.sum(X_train**2, axis=0)\n",
        "            b0 = np.mean(Y[train_inds])\n",
        "\n",
        "            X_test = pipeline.transform(X[test_inds, :])\n",
        "\n",
        "            for k in np.arange(ncomp):\n",
        "                preds = X_test[:, :k] @ coefs.T[:k] + b0\n",
        "                cv_err[k] += cv_err[k] + np.sum((Y[test_inds]-preds)**2)\n",
        "\n",
        "        min_ind = np.argmin(cv_err)\n",
        "        self.ncomp = min_ind+1\n",
        "        pipeline = Pipeline([('scaling', StandardScaler()), ('pca', PCA(n_components=self.ncomp))])\n",
        "        self.transform = pipeline.fit(X)\n",
        "        self.model = lm().fit(self.transform.transform(X), Y)\n",
        "\n",
        "    def predict(self, X):\n",
        "        X_ = self.transform.transform(X)\n",
        "        return self.model.predict(X_)"
      ],
      "metadata": {
        "id": "hjZVLb1ili3y"
      },
      "execution_count": 34,
      "outputs": []
    },
    {
      "cell_type": "markdown",
      "source": [
        "Run simulations,split the train and test data and train below models:\n",
        "\n",
        "**Full**: Fit a linear regression model using all features\n",
        "\n",
        "**Ridge.min** : Ridge regression using lambda.min\n",
        "\n",
        "**Lasso.min and Lasso.1se:** Lasso using lambda.min or lambda.1se\n",
        "\n",
        "**L.Refit:** Refit the model selected by Lasso using lambda.1se\n",
        "\n",
        "**PCR**: principle components regression with the number of components chosen by 10-fold cross validation"
      ],
      "metadata": {
        "id": "5tsPUhsjSqKQ"
      }
    },
    {
      "cell_type": "code",
      "source": [
        "import warnings\n",
        "from sklearn.exceptions import ConvergenceWarning\n",
        "warnings.filterwarnings(\"ignore\", category=ConvergenceWarning)"
      ],
      "metadata": {
        "id": "VXXq4iFakB2u"
      },
      "execution_count": 28,
      "outputs": []
    },
    {
      "cell_type": "code",
      "source": [
        "# run simulation 50 times and train given models\n",
        "sims = 50\n",
        "full_mse_list, ridge_mse_list, lasso_min_list,lasso_1se_list ,refit_mse_list, pcr_mse_list = [], [], [],[], [], []\n",
        "\n",
        "for i in range(sims):\n",
        "  X_train, Y_train, X_test, Y_test = split_train_test(X, Y)\n",
        "\n",
        "  #Full: Fit a linear regression model using all features\n",
        "  full_molel = lm().fit(X_train, Y_train)\n",
        "  full_mse = mean_squared_error(Y_test, full_molel.predict(X_test))\n",
        "  full_mse_list.append(full_mse)\n",
        "\n",
        "  #Ridge.min : Ridge regression using lambda.min\n",
        "  ridge_alphas = np.logspace(-10, 1, 100)\n",
        "  ridgecv = RidgeCV(alphas = ridge_alphas, cv = 10,\n",
        "                  scoring = 'neg_mean_squared_error')\n",
        "  ridgecv.fit(X_train, Y_train)\n",
        "  ridge_model = Ridge(alpha = ridgecv.alpha_)\n",
        "  ridge_model.fit(X_train, Y_train)\n",
        "  ridge_model_mse = mean_squared_error(Y_test, ridge_model.predict(X_test))\n",
        "  ridge_mse_list.append(ridge_model_mse)\n",
        "\n",
        "  lasso_alphas = np.logspace(-10, 1, 100)\n",
        "  lassocv = LassoCV(alphas = lasso_alphas, cv = 10)\n",
        "  lassocv.fit(X_train, Y_train)\n",
        "  mean_mse = np.mean(lassocv.mse_path_, axis=1)\n",
        "  std_mse = np.std(lassocv.mse_path_, axis=1) / np.sqrt(10)\n",
        "  cv_alphas = lassocv.alphas_\n",
        "  min_idx = np.argmin(mean_mse)\n",
        "  alpha_min = cv_alphas[min_idx]\n",
        "  threshold = mean_mse[min_idx] + std_mse[min_idx]\n",
        "  alpha_1se = max(cv_alphas[np.where(mean_mse <= threshold)])\n",
        "\n",
        "  #lasso using lambda min\n",
        "  lasso_model_min = Lasso(alpha = alpha_min, max_iter=10000)\n",
        "  lasso_model_min.fit(X_train, Y_train)\n",
        "  lasso_min_mse = mean_squared_error(Y_test, lasso_model_min.predict(X_test))\n",
        "  lasso_min_list.append(lasso_min_mse)\n",
        "\n",
        "  #lasso using lambda_1se\n",
        "  lasso_model_1se = Lasso(alpha = alpha_1se, max_iter=10000)\n",
        "  lasso_model_1se.fit(X_train, Y_train)\n",
        "  lasso_1se_mse = mean_squared_error(Y_test, lasso_model_1se.predict(X_test))\n",
        "  lasso_1se_list.append(lasso_1se_mse)\n",
        "\n",
        "  #Refit the model selected by Lasso using lambda.1se\n",
        "  nonzero_indices = np.where(lasso_model_1se.coef_ != 0)[0]\n",
        "  lm_refit = lm()\n",
        "  lm_refit.fit(X_train[:, nonzero_indices], Y_train)\n",
        "  lasso_1se_refit_mse = mean_squared_error(Y_test, lm_refit.predict(X_test[:, nonzero_indices]))\n",
        "  refit_mse_list.append(lasso_1se_refit_mse)\n",
        "\n",
        "  # pcr training and mse capturing\n",
        "  pcr = PCR()\n",
        "  pcr.fit(X_train,  Y_train.to_numpy())\n",
        "  pcr_mse = mean_squared_error(Y_test, pcr.predict(X_test))\n",
        "  pcr_mse_list.append(pcr_mse)\n",
        "\n"
      ],
      "metadata": {
        "id": "qLWTKtiAPPLd"
      },
      "execution_count": 45,
      "outputs": []
    },
    {
      "cell_type": "code",
      "source": [
        "# plot the errors\n",
        "plot_data = [full_mse_list,ridge_mse_list, lasso_min_list,lasso_1se_list, refit_mse_list, pcr_mse_list ]\n",
        "methods = ['Full Model', 'Ridge Regression']\n",
        "plt.boxplot(plot_data)\n",
        "plt.title('Error Representation using Box Plot')\n",
        "plt.xlabel('Algorithm')\n",
        "plt.ylabel('Error')\n",
        "plt.xticks(range(1, len(methods) + 1), methods)\n",
        "plt.show()"
      ],
      "metadata": {
        "colab": {
          "base_uri": "https://localhost:8080/",
          "height": 472
        },
        "id": "E_FTfOuyGy9J",
        "outputId": "ec4c3a21-0504-4333-d546-de1d04c9238d"
      },
      "execution_count": 46,
      "outputs": [
        {
          "output_type": "display_data",
          "data": {
            "text/plain": [
              "<Figure size 640x480 with 1 Axes>"
            ],
            "image/png": "[encoded data removed]"
          },
          "metadata": {}
        }
      ]
    },
    {
      "cell_type": "code",
      "source": [
        "full = lm().fit(X_train, Y_train)\n",
        "mean_squared_error(Y_test, full.predict(X_test))"
      ],
      "metadata": {
        "colab": {
          "base_uri": "https://localhost:8080/"
        },
        "id": "_17VYy4yGT8B",
        "outputId": "449f07b1-5513-4a6f-be7e-996874c9a97a"
      },
      "execution_count": 8,
      "outputs": [
        {
          "output_type": "execute_result",
          "data": {
            "text/plain": [
              "0.021598535596213147"
            ]
          },
          "metadata": {},
          "execution_count": 8
        }
      ]
    }
  ]
}